{
 "cells": [
  {
   "cell_type": "markdown",
   "id": "f149e17d-d229-4024-abd1-2a6d0f9e8b6e",
   "metadata": {},
   "source": [
    "# load the book"
   ]
  },
  {
   "cell_type": "code",
   "execution_count": 12,
   "id": "b42426e4-2162-46f8-bf08-a046264ca1e2",
   "metadata": {
    "tags": []
   },
   "outputs": [],
   "source": [
    "with open(\"miracle_in_the_andes.txt\", \"r\",encoding=\"utf-8\") as file:\n",
    "    book = file.read()"
   ]
  },
  {
   "cell_type": "code",
   "execution_count": 16,
   "id": "121118b6-1fe6-4723-a87b-7febc7629c08",
   "metadata": {
    "tags": []
   },
   "outputs": [
    {
     "data": {
      "text/plain": [
       "str"
      ]
     },
     "execution_count": 16,
     "metadata": {},
     "output_type": "execute_result"
    }
   ],
   "source": [
    "type(book)"
   ]
  },
  {
   "cell_type": "markdown",
   "id": "4ed0887b-d23e-4537-aa0f-38b08edf17b2",
   "metadata": {},
   "source": [
    "## How many chapters?"
   ]
  },
  {
   "cell_type": "markdown",
   "id": "ebac20ad-7619-4ea5-97c7-2651298e1e8c",
   "metadata": {},
   "source": [
    "### with string methods"
   ]
  },
  {
   "cell_type": "code",
   "execution_count": 17,
   "id": "9c57c864-9800-492e-bc67-d3c3d5d76fc8",
   "metadata": {
    "tags": []
   },
   "outputs": [
    {
     "data": {
      "text/plain": [
       "11"
      ]
     },
     "execution_count": 17,
     "metadata": {},
     "output_type": "execute_result"
    }
   ],
   "source": [
    "book.count(\"Chapter\")"
   ]
  },
  {
   "cell_type": "markdown",
   "id": "9692a6f1-0287-44a8-a630-d84c41c0c9d5",
   "metadata": {},
   "source": [
    "## With regex"
   ]
  },
  {
   "cell_type": "code",
   "execution_count": 18,
   "id": "68621da6-cd41-41b2-a722-d5cf62e5c948",
   "metadata": {
    "tags": []
   },
   "outputs": [],
   "source": [
    "import re"
   ]
  },
  {
   "cell_type": "code",
   "execution_count": 46,
   "id": "fd2f0c26-f027-4506-a201-0a769752bc24",
   "metadata": {
    "tags": []
   },
   "outputs": [
    {
     "data": {
      "text/plain": [
       "['Chapter 1',\n",
       " 'Chapter 2',\n",
       " 'Chapter 3',\n",
       " 'Chapter 4',\n",
       " 'Chapter 5',\n",
       " 'Chapter 6',\n",
       " 'Chapter 7',\n",
       " 'Chapter 8',\n",
       " 'Chapter 9',\n",
       " 'Chapter 10']"
      ]
     },
     "execution_count": 46,
     "metadata": {},
     "output_type": "execute_result"
    }
   ],
   "source": [
    "pattern = re.compile(\"Chapter [0-9]+\")\n",
    "finding = re.findall(pattern, book)\n",
    "finding"
   ]
  },
  {
   "cell_type": "code",
   "execution_count": 47,
   "id": "c4117e33-406f-4da9-91a0-2ff6d3639eb8",
   "metadata": {
    "tags": []
   },
   "outputs": [
    {
     "data": {
      "text/plain": [
       "10"
      ]
     },
     "execution_count": 47,
     "metadata": {},
     "output_type": "execute_result"
    }
   ],
   "source": [
    "len(finding)"
   ]
  },
  {
   "cell_type": "markdown",
   "id": "19b1dd61-3e4f-4ea3-ab6c-0c2bab4bcf43",
   "metadata": {},
   "source": [
    "# Which are the sentences where \"love\" was used?"
   ]
  },
  {
   "cell_type": "code",
   "execution_count": 77,
   "id": "195dea5b-a90d-426e-81e6-41fec34b280d",
   "metadata": {
    "tags": []
   },
   "outputs": [
    {
     "name": "stdout",
     "output_type": "stream",
     "text": [
      "67\n"
     ]
    },
    {
     "data": {
      "text/plain": [
       "(['As a young man, of course, I could not put these things into words, but I knew, and my teammates knew, that there was something special about the game, and under the guidance of the Christian Brothers we developed a passionate love for the sport that shaped our friendships and our lives.',\n",
       "  'Guido and I grew up together, playing soccer and sharing a love of motorcycles, cars, and auto racing.',\n",
       "  'Under the guidance of the Christian Brothers, both of us grew to love the game of rugby with a consuming passion.',\n",
       "  'That rowdiness came to an abrupt end for Guido in 1969, when he met and fell in love with the beautiful daughter of a Chilean diplomat.',\n",
       "  'I believe he had a great hunger for the love and comforts of a family that was happy and whole.',\n",
       "  'He shared, with my father and me, a love for cars and driving, and he loved going with us to auto races.',\n",
       "  'The house had a beautiful view of the sea, and this more than anything made my mother love it.',\n",
       "  'She was a true tower of strength, but her strength was always based in warmth and love and because of her love and protection I grew up believing the world was a safe, familiar place.',\n",
       "  'He had given us a life of comfort and privilege such as his own father never could have imagined, he had provided for us and protected us in the best way he could, and though he was not an emotionally expressive man, he always showed his love for us subtly, quietly, and in ways that were true to the man he was.',\n",
       "  'Out of love for his family he had arranged in his mind a future that would keep us all safe, happy, and always together.',\n",
       "  'Susy shared my mother’s love for the closeness of family, but she was no stay-at-home girl.',\n",
       "  'When she was sixteen she spent a year as an exchange student living with a family in Florida, an experience that taught her to love the U.',\n",
       "  'Take care of the people you love. The words inspired nothing in me but a black sense of loss.',\n",
       "  'As I lay beside her, the sweetness of my love for her, for my lost friends and my family, for the suddenly fragile notion of my own life and future, swelled in my heart with an ache so profound it sapped all my strength, and for a moment I thought I would pass out.',\n",
       "  'I pressed my cheek against hers so I could feel her warm breath on my face, and held her that way all night, gently, but very close, never letting go, embracing her as if I were embracing all the love and peace and joy I had ever known and would ever know; as if by holding on tight I could keep everything precious from slipping away.',\n",
       "  'I felt my love for my father tugging at me like a lifeline, drawing me toward those barren slopes.',\n",
       "  'In the days after Susy died, my love for my father was the only thing that kept me sane, and time after time I would calm myself by reaffirming the promise I had made at Susy’s grave: to return to him; to show him I had survived and to ease his suffering a little.',\n",
       "  'Thinking of my father this way always triggered in me a burst of love so radiant and urgent that it took my breath away.',\n",
       "  'I don’t pray to God for forgiveness or favors, I only pray to be closer to Him, and when I pray, I fill my heart with love. When I pray this way, I know that God is love.',\n",
       "  'When I feel that love, I remember that we don’t need angels or a heaven, because we are a part of God already.',\n",
       "  'Bobby, are you warm enough? Do you want me to rub your feet?” She worried constantly about the children she had left at home, but still she had the courage and love to mother these frightened boys who were so far from their families.',\n",
       "  'It was our job to follow His commandments, to take the sacraments, to love God and to love others as Jesus had taught us.',\n",
       "  'I would think of him and let my heart fill with love for him, and this love would be stronger than my suffering, or my fear.',\n",
       "  'After two weeks on the mountain, my love for my father had taken on the irresistible power of a biological drive.',\n",
       "  'All we can do is love God and love others and trust in God’s will.',\n",
       "  'I can feel His love, Nando.',\n",
       "  'There’s so much love, I want to cry.',\n",
       "  'Even if we are trapped here forever, we can love our families, and God, and each other as long as we live.',\n",
       "  'You will tell my family that I love them, won’t you? That’s all that matters to me now.',\n",
       "  'But he lived so many lifetimes, had so many adventures, and, macho, he made love to so many beautiful girls.',\n",
       "  'The shoes were magical for me because my mother had chosen them with such love for her grandson, and had handled them so tenderly on the plane.',\n",
       "  'My love for my father swelled in my heart, and I realized that, despite the hopelessness of my situation, the memory of him filled me with joy.',\n",
       "  'They could not crush my ability to love. I felt a moment of calmness and clarity, and in that clarity of mind I discovered a simple, astounding secret: Death has an opposite, but the opposite is not mere living.',\n",
       "  'The opposite of death is love. How had I missed that? How does anyone miss that? Love is our only weapon.',\n",
       "  'Only love can turn mere life into a miracle, and draw precious meaning from suffering and fear.',\n",
       "  'I would walk through the godforsaken country that separated me from my home with love and hope in my heart.',\n",
       "  'I’ve never been in love.”\\n\\n“Really?” he laughed.',\n",
       "  'But still, still, I longed for the very things I knew I would never have—the love of a wife, a family of my own, a reunion with my grandmother and older sister, and always the embrace of my father.',\n",
       "  'My ordeal had simplified my mind and whittled me down very close to the essence of what I was, and now I saw that this longing, this love and affection for the very idea of my life, was a deeper part of me than hopelessness or fear or pain or hunger.',\n",
       "  'In seconds she was in my arms, and my heart swelled with love as I held her.',\n",
       "  'There was so much I wanted to tell him, that I had thought of him every moment, that his love had been the guiding light that led me to safety.',\n",
       "  'The papers called our return “The Christmas Miracle,” and many people were regarding us as almost mystical figures: young boys who had been saved by the direct intercession of God, living proof of His love. News of our survival was making headlines around the globe, and public interest was intense.',\n",
       "  'Where should I begin? “I love it,” I said, finally.',\n",
       "  'I tried to be on my best behavior, but already I was madly in love, and it required all my effort to take my eyes off Veronique, and to remind myself there was anyone else in the room.',\n",
       "  'She stepped off the train with only a backpack and a small duffel, looking very beautiful, and I fell in love with her all over again.',\n",
       "  'Until then, I had thought I could never love anything as much as I loved my wife, but when I gazed into my baby’s face, I was struck senseless by my love for her.',\n",
       "  'I felt a sudden, staggering sense of gratitude for the rich joys of my life—I had been given so much love and happiness—and I realized that every grueling step I had taken through that godforsaken wilderness was a step toward the tiny, precious miracle I held in my arms.',\n",
       "  'We are bonded by our suffering and our losses, but also by a great sense of mutual respect and, of course, a deep, unquestioned love. I don’t know if my father has ever understood how important he was to me when I was lost.',\n",
       "  'Mostly, he saved me with his love. He was never an openly affectionate man, but I never doubted his love when I was a boy.',\n",
       "  'It was quiet love, but solid and deep and enduring.',\n",
       "  'When I was in the mountains, stranded in the shadows of death, that love was like a safety line anchored in the world of the living.',\n",
       "  'As long as I held on to that love, I was not lost, I was connected to my home and to my future, and in the end it was that strong cord of love that led me out of danger.',\n",
       "  'He saved me simply by being the father I love.\\n\\n\\nWHEN MY FELLOW survivors and I first returned from the mountains, our parents and teachers, worried that we’d been scarred by the horrors we’d faced, asked us to visit a therapist.',\n",
       "  'There was love, the love in my heart, and for one incredible moment, as I felt this love swell—love for my father, for my future, for the simple wonder of being alive—death lost its power.',\n",
       "  'Instead, I made every step a step toward love, and that saved me.',\n",
       "  'I have never stopped moving toward love. Life has blessed me with material success.',\n",
       "  'I love to travel.',\n",
       "  'I believe life should be enjoyed, but my experiences have taught me that without the love of my family and my friends, all the trappings of worldly success would ring hollow.',\n",
       "  'I also know that I would be a happy man if all those trappings were taken from me, as long as I am close to the people I love.\\n\\nI expect most people would like to think of themselves this way, but I know that if I had not suffered as I did, and had not been forced to stare death in the face, I would not treasure the simple, precious pleasures of my life as richly as I do.',\n",
       "  'I savor them and let each one become a miniature eternity, and by living these small moments of my life so fully, I defy the shadow of death that hovers over all of us, I reaffirm my love and gratitude for all the gifts I’ve been given, and I fill myself more and more deeply with life.',\n",
       "  'It seemed to reach me through my own feelings of love, and I have often thought that when we feel what we call love, we are really feeling our connection to this awesome presence.',\n",
       "  'Instead, I imagine love, an ocean of love, the very source of love, and I imagine myself merging with it.',\n",
       "  'I open myself to it, I try to direct that tide of love toward the people who are close to me, hoping to protect them and bind them to me forever and connect us all to whatever there is in the world that is eternal.',\n",
       "  'In the mountains, it was love that kept me connected to the world of the living.',\n",
       "  'I had no expertise to draw on, so I relied upon the trust I felt in my love for my father and my future, and that trust led me home.',\n",
       "  'Now I am convinced that if there is something divine in the universe, the only way I will find it is through the love I feel for my family and my friends, and through the simple wonder of being alive.',\n",
       "  'I don’t need any other wisdom or philosophy than this: My duty is to fill my time on earth with as much life as possible, to become a little more human every day, and to understand that we only become human when we love. I have tried to love my friends with a loyal and generous heart.'],\n",
       " None)"
      ]
     },
     "execution_count": 77,
     "metadata": {},
     "output_type": "execute_result"
    }
   ],
   "source": [
    "# #This was using charatcers we can define as many characters in the [] to find all the patterns\n",
    "# pattern = re.compile(\"[a-z A-z]* love [a-z A-z]*\")\n",
    "# finding = re.findall(pattern, book)\n",
    "# finding, print(len(finding))\n",
    "pattern = re.compile(\"[A-Z][^.]*[^a-zA-Z]+love[^a-zA-z]+[^.]*.\")\n",
    "finding = re.findall(pattern, book)\n",
    "finding, print(len(finding))"
   ]
  },
  {
   "cell_type": "markdown",
   "id": "fe7e69b8-f064-4408-aa7b-c91b167ebbc4",
   "metadata": {},
   "source": [
    "## Check the count of any paticular word"
   ]
  },
  {
   "cell_type": "code",
   "execution_count": 88,
   "id": "842682fb-75ac-40bc-8021-8a2f1192147c",
   "metadata": {
    "tags": []
   },
   "outputs": [
    {
     "data": {
      "text/plain": [
       "(86798, ['chapter', 'before', 'it', 'was', 'friday'])"
      ]
     },
     "execution_count": 88,
     "metadata": {},
     "output_type": "execute_result"
    }
   ],
   "source": [
    "pattern = re.compile(\"[A-Za-z]+\")\n",
    "finding = re.findall(pattern, book.lower())\n",
    "len(finding), finding[:5]"
   ]
  },
  {
   "cell_type": "code",
   "execution_count": 90,
   "id": "530da00e-dbb9-438d-9907-08ae72cade30",
   "metadata": {
    "tags": []
   },
   "outputs": [],
   "source": [
    "word_count={}\n",
    "for word in finding:\n",
    "    if word in word_count:\n",
    "        word_count[word] +=1\n",
    "    else:\n",
    "        word_count[word]=1"
   ]
  },
  {
   "cell_type": "code",
   "execution_count": 138,
   "id": "b182739d-cb8d-43ef-a84c-0d9c4145832c",
   "metadata": {
    "tags": []
   },
   "outputs": [],
   "source": [
    "word_list = [(value,key) for (key,value) in word_count.items()]\n",
    "word_list = sorted(word_list,reverse = True)\n"
   ]
  },
  {
   "cell_type": "markdown",
   "id": "f008cabb-1c53-42d2-93cd-4ba977801e08",
   "metadata": {
    "tags": []
   },
   "source": [
    "# the most used words(Non-Articles)"
   ]
  },
  {
   "cell_type": "code",
   "execution_count": 139,
   "id": "37d2612e-5f83-4076-be21-b6cf81e28ea3",
   "metadata": {
    "tags": []
   },
   "outputs": [
    {
     "data": {
      "text/plain": [
       "[(5346, 'the'), (2795, 'and'), (2729, 'i'), (2400, 'to'), (2060, 'of')]"
      ]
     },
     "execution_count": 139,
     "metadata": {},
     "output_type": "execute_result"
    }
   ],
   "source": [
    "word_list[:5]"
   ]
  },
  {
   "cell_type": "code",
   "execution_count": 140,
   "id": "e6e39dc2-f638-4f40-bf84-d5b4bb15656b",
   "metadata": {
    "tags": []
   },
   "outputs": [
    {
     "data": {
      "text/plain": [
       "'3.11.3'"
      ]
     },
     "execution_count": 140,
     "metadata": {},
     "output_type": "execute_result"
    }
   ],
   "source": [
    "# Check python version in jupyter\n",
    "from platform import python_version\n",
    "python_version()"
   ]
  },
  {
   "cell_type": "code",
   "execution_count": 141,
   "id": "71f29e07-8d1d-4b47-ac1f-216954bb0b86",
   "metadata": {
    "tags": []
   },
   "outputs": [
    {
     "name": "stdout",
     "output_type": "stream",
     "text": [
      "Requirement already satisfied: nltk in d:\\pythonproject\\nlp_sample\\venv\\lib\\site-packages (3.8.1)\n",
      "Requirement already satisfied: regex>=2021.8.3 in d:\\pythonproject\\nlp_sample\\venv\\lib\\site-packages (from nltk) (2023.10.3)\n",
      "Requirement already satisfied: click in d:\\pythonproject\\nlp_sample\\venv\\lib\\site-packages (from nltk) (8.1.7)\n",
      "Requirement already satisfied: joblib in d:\\pythonproject\\nlp_sample\\venv\\lib\\site-packages (from nltk) (1.3.2)\n",
      "Requirement already satisfied: tqdm in d:\\pythonproject\\nlp_sample\\venv\\lib\\site-packages (from nltk) (4.66.1)\n",
      "Requirement already satisfied: colorama in d:\\pythonproject\\nlp_sample\\venv\\lib\\site-packages (from click->nltk) (0.4.6)\n"
     ]
    },
    {
     "name": "stderr",
     "output_type": "stream",
     "text": [
      "WARNING: You are using pip version 21.3.1; however, version 23.3.1 is available.\n",
      "You should consider upgrading via the 'D:\\pythonProject\\NLP_sample\\venv\\Scripts\\python.exe -m pip install --upgrade pip' command.\n"
     ]
    }
   ],
   "source": [
    "# install nltk using following\n",
    "!pip3 install nltk"
   ]
  },
  {
   "cell_type": "code",
   "execution_count": 142,
   "id": "1b5b81c7-225e-4b8b-967c-b700b440315c",
   "metadata": {
    "tags": []
   },
   "outputs": [
    {
     "name": "stdout",
     "output_type": "stream",
     "text": [
      "Requirement already satisfied: pip in c:\\users\\chand\\anaconda3\\lib\\site-packages (23.3.1)\n",
      "Note: you may need to restart the kernel to use updated packages.\n"
     ]
    }
   ],
   "source": [
    "pip install --upgrade pip"
   ]
  },
  {
   "cell_type": "code",
   "execution_count": 117,
   "id": "5e4ac4c9-267b-4ee7-8e07-fedd4030e383",
   "metadata": {
    "tags": []
   },
   "outputs": [
    {
     "name": "stderr",
     "output_type": "stream",
     "text": [
      "[nltk_data] Downloading package stopwords to\n",
      "[nltk_data]     C:\\Users\\chand\\AppData\\Roaming\\nltk_data...\n",
      "[nltk_data]   Package stopwords is already up-to-date!\n"
     ]
    },
    {
     "data": {
      "text/plain": [
       "True"
      ]
     },
     "execution_count": 117,
     "metadata": {},
     "output_type": "execute_result"
    }
   ],
   "source": [
    "# import nltk lib and download \n",
    "import nltk\n",
    "nltk.download('stopwords')\n"
   ]
  },
  {
   "cell_type": "code",
   "execution_count": 145,
   "id": "bfb091ae-0bbe-4055-9285-af6d3818f906",
   "metadata": {
    "tags": []
   },
   "outputs": [],
   "source": [
    "# to get a list of all pronouns and prepositions\n",
    "from nltk.corpus import stopwords\n",
    "english_stopwords = stopwords.words(\"english\")"
   ]
  },
  {
   "cell_type": "code",
   "execution_count": 146,
   "id": "74e4446b-d08e-4b7e-93f2-02f368b0ac17",
   "metadata": {
    "tags": []
   },
   "outputs": [
    {
     "data": {
      "text/plain": [
       "179"
      ]
     },
     "execution_count": 146,
     "metadata": {},
     "output_type": "execute_result"
    }
   ],
   "source": [
    "len(english_stopwords)"
   ]
  },
  {
   "cell_type": "code",
   "execution_count": 148,
   "id": "6359775b-e363-4832-ab79-7d225957a197",
   "metadata": {
    "tags": []
   },
   "outputs": [],
   "source": [
    "# to get the most used word without stopwords\n",
    "filtered_words = [(word,count) for count, word in word_list if word not in english_stopwords]"
   ]
  },
  {
   "cell_type": "code",
   "execution_count": 151,
   "id": "b7a86245-a203-4c6e-a4e5-b4135716045b",
   "metadata": {
    "tags": []
   },
   "outputs": [
    {
     "data": {
      "text/plain": [
       "[('would', 575), ('us', 519), ('said', 292), ('roberto', 284), ('could', 252)]"
      ]
     },
     "execution_count": 151,
     "metadata": {},
     "output_type": "execute_result"
    }
   ],
   "source": [
    "filtered_words[:5]"
   ]
  },
  {
   "cell_type": "code",
   "execution_count": null,
   "id": "95b5d12c-80bb-4198-9868-dd4ed1fcb235",
   "metadata": {},
   "outputs": [],
   "source": []
  }
 ],
 "metadata": {
  "kernelspec": {
   "display_name": "Python 3 (ipykernel)",
   "language": "python",
   "name": "python3"
  },
  "language_info": {
   "codemirror_mode": {
    "name": "ipython",
    "version": 3
   },
   "file_extension": ".py",
   "mimetype": "text/x-python",
   "name": "python",
   "nbconvert_exporter": "python",
   "pygments_lexer": "ipython3",
   "version": "3.11.3"
  }
 },
 "nbformat": 4,
 "nbformat_minor": 5
}
